{
 "cells": [
  {
   "cell_type": "code",
   "execution_count": 1,
   "id": "initial_id",
   "metadata": {
    "collapsed": true,
    "ExecuteTime": {
     "end_time": "2024-01-16T04:55:38.839940200Z",
     "start_time": "2024-01-16T04:55:38.552165900Z"
    }
   },
   "outputs": [],
   "source": [
    "import os\n",
    "import uuid\n",
    "import time\n",
    "import cv2"
   ]
  },
  {
   "cell_type": "code",
   "outputs": [],
   "source": [
    "path_images = os.path.join('data', 'images')\n",
    "path_labels = os.path.join('data', 'labels')\n",
    "num_of_images = 40"
   ],
   "metadata": {
    "collapsed": false,
    "ExecuteTime": {
     "end_time": "2024-01-16T04:55:39.364726200Z",
     "start_time": "2024-01-16T04:55:39.323734900Z"
    }
   },
   "id": "81e9b5af8669ed45",
   "execution_count": 2
  },
  {
   "cell_type": "markdown",
   "source": [
    "# Making the Required Directories"
   ],
   "metadata": {
    "collapsed": false
   },
   "id": "fcb134bd47301c42"
  },
  {
   "cell_type": "code",
   "outputs": [],
   "source": [
    "os.makedirs(path_images, exist_ok=True)\n",
    "os.makedirs(path_labels, exist_ok=True)"
   ],
   "metadata": {
    "collapsed": false,
    "ExecuteTime": {
     "end_time": "2024-01-16T04:55:40.393511200Z",
     "start_time": "2024-01-16T04:55:40.376520100Z"
    }
   },
   "id": "993b4fb6133005a",
   "execution_count": 3
  },
  {
   "cell_type": "markdown",
   "source": [
    "# Capturing the image from the webcam"
   ],
   "metadata": {
    "collapsed": false
   },
   "id": "8d4f5bbea43e7488"
  },
  {
   "cell_type": "code",
   "outputs": [],
   "source": [
    "cap = cv2.VideoCapture(0)\n",
    "for image in range(num_of_images):\n",
    "    ret, frame = cap.read()\n",
    "    image_name = os.path.join(path_images, f'{str(uuid.uuid1())}.jpg')\n",
    "    cv2.imwrite(image_name, frame)\n",
    "    cv2.imshow('Frame', frame)\n",
    "    time.sleep(0.5)\n",
    "    \n",
    "\n",
    "    if cv2.waitKey(1) & 0xFF == ord('q'):\n",
    "        break\n",
    "        \n",
    "cap.release()\n",
    "cv2.destroyAllWindows()"
   ],
   "metadata": {
    "collapsed": false,
    "ExecuteTime": {
     "end_time": "2024-01-16T04:56:47.840973500Z",
     "start_time": "2024-01-16T04:56:21.560955800Z"
    }
   },
   "id": "dd8b6095b458198b",
   "execution_count": 5
  },
  {
   "cell_type": "markdown",
   "source": [
    "# Run above cell about 3 to 4 times at putting your webcam at different-different angles"
   ],
   "metadata": {
    "collapsed": false
   },
   "id": "93c59577f5d1b2ff"
  },
  {
   "cell_type": "code",
   "outputs": [],
   "source": [],
   "metadata": {
    "collapsed": false,
    "ExecuteTime": {
     "end_time": "2024-01-16T04:56:19.425555300Z",
     "start_time": "2024-01-16T04:56:19.418886Z"
    }
   },
   "id": "2762b35cf1db4519",
   "execution_count": 4
  },
  {
   "cell_type": "code",
   "outputs": [],
   "source": [],
   "metadata": {
    "collapsed": false
   },
   "id": "1a2c6e88169aa5ae"
  }
 ],
 "metadata": {
  "kernelspec": {
   "display_name": "Python 3",
   "language": "python",
   "name": "python3"
  },
  "language_info": {
   "codemirror_mode": {
    "name": "ipython",
    "version": 2
   },
   "file_extension": ".py",
   "mimetype": "text/x-python",
   "name": "python",
   "nbconvert_exporter": "python",
   "pygments_lexer": "ipython2",
   "version": "2.7.6"
  }
 },
 "nbformat": 4,
 "nbformat_minor": 5
}
